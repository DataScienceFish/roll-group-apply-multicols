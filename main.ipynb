{
 "cells": [
  {
   "cell_type": "markdown",
   "metadata": {},
   "source": [
    "# 基于pandas和numpy的自定义多列rolling+apply函数"
   ]
  },
  {
   "cell_type": "markdown",
   "metadata": {},
   "source": [
    "# Modules"
   ]
  },
  {
   "cell_type": "code",
   "execution_count": null,
   "metadata": {
    "ExecuteTime": {
     "end_time": "2023-08-17T02:48:18.713997Z",
     "start_time": "2023-08-17T02:48:18.264039Z"
    }
   },
   "outputs": [],
   "source": [
    "# python env: miniconda, python==3.9.17, pandas==1.5.2, numpy==1.23.4\n",
    "import numpy as np\n",
    "import pandas as pd\n",
    "from numpy.lib.stride_tricks import as_strided as stride"
   ]
  },
  {
   "cell_type": "markdown",
   "metadata": {},
   "source": [
    "# 数据准备"
   ]
  },
  {
   "cell_type": "code",
   "execution_count": null,
   "metadata": {
    "ExecuteTime": {
     "end_time": "2023-08-17T02:48:18.746027Z",
     "start_time": "2023-08-17T02:48:18.716000Z"
    }
   },
   "outputs": [],
   "source": [
    "# demo-data1：部分行情切片\n",
    "from io import StringIO\n",
    "data_str = '''\n",
    ",open,high,low,close\n",
    "0,132.960,133.340,132.940,133.105\n",
    "1,133.110,133.255,132.710,132.755\n",
    "2,132.755,132.985,132.640,132.735 \n",
    "3,132.730,132.790,132.575,132.685\n",
    "4,132.685,132.785,132.625,132.755\n",
    "'''\n",
    "dates = pd.date_range('20130101', periods=5, freq='D')\n",
    "df_prc = pd.read_csv(StringIO(data_str), index_col=[0])\n",
    "df_prc.index = dates\n",
    "df_prc.index.name = 'datetime'\n",
    "df_prc"
   ]
  },
  {
   "cell_type": "code",
   "execution_count": null,
   "metadata": {
    "ExecuteTime": {
     "end_time": "2023-08-17T02:48:18.761697Z",
     "start_time": "2023-08-17T02:48:18.747697Z"
    }
   },
   "outputs": [],
   "source": [
    "# demo-data2：数值序列\n",
    "dates = pd.date_range('20130101', periods=13, freq='D')\n",
    "df = pd.DataFrame({'C': [1.6, 4.1, 2.7, 4.9, 5.4, 1.3, 6.6, 9.6, 3.5, 5.4, 10.1, 3.08, 5.38],\n",
    "                   'D': [2.6, 4.1, 2.3, 4.9, 5.1, 1.3, 3.6, 5.6, 3.5, 4.4, 2.1, 1.08, 3.38]}, \n",
    "                   index=dates)\n",
    "df['E'] = df.median(axis=1)\n",
    "df.index.name = 'datetime'\n",
    "df"
   ]
  },
  {
   "cell_type": "markdown",
   "metadata": {},
   "source": [
    "# 解决思路"
   ]
  },
  {
   "cell_type": "markdown",
   "metadata": {},
   "source": [
    "## DataFrame版"
   ]
  },
  {
   "cell_type": "code",
   "execution_count": null,
   "metadata": {
    "ExecuteTime": {
     "end_time": "2023-08-17T02:48:18.793727Z",
     "start_time": "2023-08-17T02:48:18.763700Z"
    }
   },
   "outputs": [],
   "source": [
    "def rolling_group(df: pd.DataFrame, window: int, **kwargs):\n",
    "    \"\"\"\n",
    "    To run rolling apply with multi-columns input\n",
    "    :param df: pd.DataFrame with ONLY 2-dims like below:\n",
    "                    open     high     low      close\n",
    "        datetime                                      \n",
    "        2013-01-01  132.960  133.340  132.940  133.105\n",
    "        2013-01-02  133.110  133.255  132.710  132.755\n",
    "        2013-01-03  132.755  132.985  132.640  132.735\n",
    "        2013-01-04  132.730  132.790  132.575  132.685\n",
    "        2013-01-05  132.685  132.785  132.625  132.755\n",
    "    :param window: rolling windows, also means min_periods\n",
    "    :param kwargs: other kwargs to be input to the apply func\n",
    "    :return: pd.DataFrame.groupby object with muli-level index values like below:\n",
    "                               open     high     low    close\n",
    "    2013-01-03  2013-01-01   132.96   133.34  132.94  133.105\n",
    "                2013-01-02   133.11  133.255  132.71  132.755\n",
    "                2013-01-03  132.755  132.985  132.64  132.735\n",
    "    \"\"\"\n",
    "    # move index to values\n",
    "    v = df.reset_index().values\n",
    "    \n",
    "    # rolling cut sample\n",
    "    dim0, dim1 = v.shape\n",
    "    stride0, stride1 = v.strides\n",
    "\n",
    "    stride_values = stride(v, (dim0 - (window - 1), window, dim1), (stride0, stride0, stride1))\n",
    "    \n",
    "    # concat as new DataFrame\n",
    "    rolled_df = pd.concat({\n",
    "        row: pd.DataFrame(values[:, 1:], columns=df.columns, index=values[:, 0].flatten())\n",
    "        for row, values in zip(df.index[window - 1:], stride_values)\n",
    "    })\n",
    "\n",
    "    # return groupby object with level 0 the original index level \n",
    "    return rolled_df.groupby(level=0, **kwargs)\n",
    "\n",
    "\n",
    "# groupby object\n",
    "rolling_group(df, 3)\n",
    "# iter check\n",
    "print(next(iter(rolling_group(df, 3))))"
   ]
  },
  {
   "cell_type": "code",
   "execution_count": null,
   "metadata": {
    "ExecuteTime": {
     "end_time": "2023-08-17T02:48:18.808740Z",
     "start_time": "2023-08-17T02:48:18.795729Z"
    }
   },
   "outputs": [],
   "source": [
    "# 功能测试\n",
    "# add basic lambda func\n",
    "# rolling_group(df, 3).apply(lambda df:df['C'].mean() + df['D'].max())  # 单一返回值\n",
    "# rolling_group(df, 3).apply(lambda df:(df['C'].mean() , df['D'].max()))  # 单一tuple返回值\n",
    "# rolling_group(df, 3).apply(lambda df:pd.Series((df['C'].mean() , df['D'].max())))  # 多列返回\n",
    "\n",
    "# rolling_group(df_prc, 3).apply(lambda df:df.min(axis=1))  # dataframe返回,此时因为是groupby返回对象，所以索引会再增加一级"
   ]
  },
  {
   "cell_type": "markdown",
   "metadata": {},
   "source": [
    "### 运用1：简单举例"
   ]
  },
  {
   "cell_type": "code",
   "execution_count": null,
   "metadata": {
    "ExecuteTime": {
     "end_time": "2023-08-17T02:48:18.838768Z",
     "start_time": "2023-08-17T02:48:18.810743Z"
    }
   },
   "outputs": [],
   "source": [
    "def own_func(df):\n",
    "    \"\"\"\n",
    "    attention: df has MultiIndex\n",
    "    :param df:\n",
    "    :return:\n",
    "    \"\"\"\n",
    "\n",
    "    return pd.Series([df[\"C\"].mean(), df[\"C\"].max() + df[\"D\"].min()])\n",
    "\n",
    "rolling_group(df, 4).apply(own_func)"
   ]
  },
  {
   "cell_type": "markdown",
   "metadata": {},
   "source": [
    "### 运用2：Beta计算\n",
    "\n",
    "+ Beta是以股票ret为y，市场收益率为X回归的$\\beta$"
   ]
  },
  {
   "cell_type": "code",
   "execution_count": null,
   "metadata": {
    "ExecuteTime": {
     "end_time": "2023-08-17T02:48:19.747594Z",
     "start_time": "2023-08-17T02:48:18.839769Z"
    }
   },
   "outputs": [],
   "source": [
    "import statsmodels.api as sm\n",
    "\n",
    "# 权重w和市场收益率mkt_ret模拟\n",
    "w = np.array(range(4, 0, -1))/10\n",
    "s_mkt_dt = pd.Series(range(1, len(dates)+1), index=dates)\n",
    "\n",
    "def __wls_beta(ret, w=None):\n",
    "    ret = ret.reset_index(0, drop=True).astype(float)\n",
    "    if w is None:\n",
    "        w = np.ones(ret.shape[0])\n",
    "\n",
    "    s_mkt = s_mkt_dt[ret.index].astype(float)\n",
    "    X = sm.add_constant(s_mkt, prepend=False)\n",
    "    # print(X)\n",
    "    model = sm.WLS(ret, X, weights=w).fit()\n",
    "    # param0 for beta_mkt, param1 for _cons\n",
    "    params = model.params.values\n",
    "    error_std = (ret - model.predict(X)).std()\n",
    "    return params[0], params[1], error_std\n",
    "\n",
    "\n",
    "# rolling WLS with multi returns\n",
    "df_reg_params = rolling_group(df_prc, window=4).agg(lambda i:__wls_beta(i, w=w))\n",
    "\n",
    "# extract rolling wls reg beta_mkt\n",
    "df_beta_mkt = df_reg_params.applymap(lambda x:x[0])\n",
    "# extract rolling wls reg _cons\n",
    "df_cons = df_reg_params.applymap(lambda x:x[1])\n",
    "# extract rolling wls reg predict_error_std\n",
    "df_error_std = df_reg_params.applymap(lambda x:x[2])"
   ]
  },
  {
   "cell_type": "code",
   "execution_count": null,
   "metadata": {
    "ExecuteTime": {
     "end_time": "2023-08-17T02:48:19.762608Z",
     "start_time": "2023-08-17T02:48:19.749596Z"
    }
   },
   "outputs": [],
   "source": [
    "df_error_std, df_beta_mkt"
   ]
  },
  {
   "cell_type": "markdown",
   "metadata": {},
   "source": [
    "### 运用3：区间相对强弱指标计算\n",
    "\n",
    "+ 定义：当日收盘价位于N日高低点的相对位置\n",
    "\n",
    "+ 公式：$$RS_t(N)=\\frac{close_t-Min(N)}{Max(N)-Min(N)},$$其中$Min(N)=Min(\\{low_{\\tau}, \\tau \\in [t,..., t-(N-1)]\\})$, $Max(N)=Max(\\{high_{\\tau}, \\tau \\in [t,..., t-(N-1)]\\})$"
   ]
  },
  {
   "cell_type": "code",
   "execution_count": null,
   "metadata": {
    "ExecuteTime": {
     "end_time": "2023-08-17T02:48:19.778623Z",
     "start_time": "2023-08-17T02:48:19.764610Z"
    }
   },
   "outputs": [],
   "source": [
    "def RS(df: pd.DataFrame):\n",
    "    \"\"\"\n",
    "    \n",
    "    :param df:\n",
    "    :return:\n",
    "    \"\"\"\n",
    "    # 这里有未来数据调用的情况，因为每次计算使用的对象是区间完整的DataFrame,所以最后返回时只能最后一行\n",
    "    value = (df['close'] - df['low'].min()).div((df['high'].max()-df['low'].min()))\n",
    "    return value[-1]\n",
    "\n",
    "\n",
    "# 全样本，N=shape[0]\n",
    "# RS(df_prc)  # 返回一个值\n",
    "\n",
    "# 滚动样本\n",
    "df_prc['RS'] = rolling_group(df_prc, 3).apply(RS)\n",
    "df_prc"
   ]
  },
  {
   "cell_type": "code",
   "execution_count": null,
   "metadata": {
    "ExecuteTime": {
     "end_time": "2023-08-17T02:48:19.794637Z",
     "start_time": "2023-08-17T02:48:19.780625Z"
    }
   },
   "outputs": [],
   "source": [
    "# RS的第二种计算：显式计算\n",
    "df_prc_exp = df_prc.copy(deep=True)\n",
    "df_prc_exp['_div'] = (df_prc['high'].rolling(3).max() - df_prc['low'].rolling(3).min())\n",
    "df_prc_exp['div'] = df_prc['close'].sub(df_prc['low'].rolling(3).min())\n",
    "df_prc_exp['rs'] = df_prc_exp['div'].div(df_prc_exp['_div'])\n",
    "df_prc_exp"
   ]
  },
  {
   "cell_type": "markdown",
   "metadata": {},
   "source": [
    "## 纯Numpy版"
   ]
  },
  {
   "cell_type": "code",
   "execution_count": null,
   "metadata": {
    "ExecuteTime": {
     "end_time": "2023-08-17T02:48:19.810652Z",
     "start_time": "2023-08-17T02:48:19.796639Z"
    }
   },
   "outputs": [],
   "source": [
    "# 首先将通过numpy从内存提取数据单独写成函数\n",
    "def get_stride_values(df: pd.DataFrame, window=5):\n",
    "    # v的第一列默认索引\n",
    "    v = df.reset_index().values\n",
    "    dim0, dim1 = v.shape\n",
    "    stride0, stride1 = v.strides\n",
    "    \n",
    "    stride_values = stride(v, \n",
    "                           (dim0 - (window - 1), window, dim1), \n",
    "                           (stride0, stride0, stride1))\n",
    "    return stride_values\n",
    "\n",
    "\n",
    "window = 3\n",
    "stride_values = get_stride_values(df, 3)\n",
    "stride_values.shape, stride_values[0]"
   ]
  },
  {
   "cell_type": "code",
   "execution_count": null,
   "metadata": {
    "ExecuteTime": {
     "end_time": "2023-08-17T02:48:19.826666Z",
     "start_time": "2023-08-17T02:48:19.812654Z"
    }
   },
   "outputs": [],
   "source": [
    "# 返回测试\n",
    "def own_func_np(narr, **kwargs):\n",
    "    \"\"\"\n",
    "    :param narr:\n",
    "    :return:\n",
    "    \"\"\"\n",
    "    idx = narr[-1, 0]\n",
    "    \n",
    "    c = narr[:, 1]\n",
    "    d = narr[:, 2]\n",
    "    return idx, (np.mean(c), np.max(c) + np.min(d))\n",
    "\n",
    "\n",
    "dim0  = df.shape[0]\n",
    "result_values = np.full((dim0, 2), np.nan)\n",
    "result_idx = np.full((dim0, 2), pd.Timestamp(1999, 1, 1))\n",
    "\n",
    "for i, values in enumerate(stride_values, window - 1):\n",
    "    break\n",
    "\n",
    "idx, data = own_func_np(values)\n",
    "\n",
    "\n",
    "result_values[i,] = data\n",
    "result_idx[i] = idx\n",
    "# result_values, result_idx"
   ]
  },
  {
   "cell_type": "code",
   "execution_count": null,
   "metadata": {
    "ExecuteTime": {
     "end_time": "2023-08-17T02:48:19.841680Z",
     "start_time": "2023-08-17T02:48:19.828670Z"
    }
   },
   "outputs": [],
   "source": [
    "# 编写纯numpy版rolling函数\n",
    "def rolling_np(df: pd.DataFrame, apply_func: callable, *ret_sub_shapes,\n",
    "               window=3, **kwargs):\n",
    "    \"\"\"\n",
    "    rolling with multiple columns on 2 dim pd.Dataframe\n",
    "      - pure numpy process\n",
    "      - available for multi-level return matrix\n",
    "      - call apply function with numpy ndarray\n",
    "    :param df:\n",
    "    :param window:\n",
    "    :param apply_func:\n",
    "    :param ret_sub_shapes: dims of returns' shapes\n",
    "    :param kwargs:\n",
    "    :return:\n",
    "    \"\"\"\n",
    "    stride_values = get_stride_values(df, window=window)\n",
    "    \n",
    "    dim0 = df.shape[0]\n",
    "    \n",
    "    # 设置返回的值列和索引列\n",
    "    result_values = np.full((dim0, *ret_sub_shapes), np.nan)\n",
    "    result_index = np.full(dim0, pd.Timestamp(1990, 1,1)) # 这里index必须和apply_func返回的index类型一致\n",
    "    \n",
    "    # 循环读取\n",
    "    for i, values in enumerate(stride_values, window - 1):\n",
    "        # col 0 是索引列，其余是值列\n",
    "        idx, data = apply_func(values, **kwargs)\n",
    "        \n",
    "        result_values[i,] = data\n",
    "        result_index[i] = idx\n",
    "    return result_index, result_values\n",
    "\n",
    "\n",
    "ret_idx, ret_values = rolling_np(df, own_func_np, 2, window=3)\n",
    "result_df = pd.DataFrame(ret_values, index=ret_idx)\n",
    "result_df"
   ]
  },
  {
   "cell_type": "markdown",
   "metadata": {},
   "source": [
    "### 运用1：Beta计算"
   ]
  },
  {
   "cell_type": "markdown",
   "metadata": {},
   "source": [
    "#### 全样本计算"
   ]
  },
  {
   "cell_type": "code",
   "execution_count": null,
   "metadata": {
    "ExecuteTime": {
     "end_time": "2023-08-17T02:48:19.856694Z",
     "start_time": "2023-08-17T02:48:19.842680Z"
    }
   },
   "outputs": [],
   "source": [
    "# 权重w和市场收益率mkt_ret模拟\n",
    "w = np.array(range(4, 0, -1))/10\n",
    "s_mkt_dt = pd.Series(range(1, len(df.index)+1), index=df.index)\n",
    "\n",
    "df['_mkt'] = s_mkt_dt\n",
    "df"
   ]
  },
  {
   "cell_type": "code",
   "execution_count": null,
   "metadata": {
    "ExecuteTime": {
     "end_time": "2023-08-17T02:48:19.871708Z",
     "start_time": "2023-08-17T02:48:19.859696Z"
    }
   },
   "outputs": [],
   "source": [
    "# 方法1：矩阵乘法求解（下文集成为__mat_B函数\n",
    "# Y: t*n，每一列是个股地时间序列回报，每一行是时间\n",
    "# X: t*K, 每一列是因子时间序列收益率，每一行是时间\n",
    "# B: K*n, 每一列是个股的因子暴露，每一行是一个因子\n",
    "# 这里最好都是没有index的数据\n",
    "X, Y = df['_mkt'], df[['C', 'D', 'E']].values\n",
    "# 加入常数项\n",
    "X = np.c_[np.ones(X.shape[0]), X] \n",
    "# 这里使用伪逆，避免矩阵不满秩带来的错误\n",
    "# B = np.linalg.pinv(X.T@X)@X.T@Y\n",
    "\n",
    "# 抽象为加权最小二乘回归（等权时即为OLS）\n",
    "w = np.array(range(X.shape[0], 0, -1))\n",
    "w = w/w.sum()\n",
    "\n",
    "W = np.diag(w)\n",
    "B = np.linalg.pinv(X.T@W@X)@X.T@W@Y\n",
    "\n",
    "\n",
    "# E: 残差，alpha矩阵，t*n，每一列是个股时间序列上的alpha\n",
    "E = Y - X@B\n",
    "B"
   ]
  },
  {
   "cell_type": "code",
   "execution_count": null,
   "metadata": {
    "ExecuteTime": {
     "end_time": "2023-08-17T02:48:19.886721Z",
     "start_time": "2023-08-17T02:48:19.872708Z"
    }
   },
   "outputs": [],
   "source": [
    "# 方法2：基于sm.WLS计算，结果同矩阵计算一致\n",
    "# X = sm.add_constant(Y, prepend=False)\n",
    "print(X)\n",
    "model = sm.WLS(Y, X, weights=w).fit()\n",
    "# 第一个是ret的系数，第二个是常数项，因为后续要用到残差，所以都保留\n",
    "params = model.params\n",
    "params"
   ]
  },
  {
   "cell_type": "markdown",
   "metadata": {},
   "source": [
    "#### 滚动计算"
   ]
  },
  {
   "cell_type": "code",
   "execution_count": null,
   "metadata": {
    "ExecuteTime": {
     "end_time": "2023-08-17T02:48:19.901735Z",
     "start_time": "2023-08-17T02:48:19.888723Z"
    }
   },
   "outputs": [],
   "source": [
    "def __mat_B(narr, w=None):\n",
    "    \"\"\"\n",
    "    computing Weighted-Least-Square with matrix method\n",
    "      - pure numpy process\n",
    "    :param narr: numpy ndarray with col 0 the \n",
    "    :param w: weights series\n",
    "    :return:\n",
    "    \"\"\"\n",
    "    # col 0 是索引列\n",
    "    idx = narr[:,0]\n",
    "    # col -1 是X列，本例里是市场收益率s_mkt_ret\n",
    "    X = narr[:, -1].astype(float)\n",
    "    # col 1:-1 是Y列，本例里是个股的收益率矩阵\n",
    "    Y = narr[:,1:-1].astype(float)\n",
    "    \n",
    "    t, n = Y.shape[0], Y.shape[1]\n",
    "    \n",
    "    # X的第一列是常数列，其余列为X列\n",
    "    X = np.c_[np.ones(t), X]\n",
    "    if w is None:\n",
    "        w = np.ones(t)\n",
    "    W = np.diag(w)\n",
    "    B = np.linalg.pinv(X.T@W@X)@X.T@W@Y\n",
    "\n",
    "    return idx[-1], B\n",
    "\n",
    "\n",
    "# 全样本\n",
    "__mat_B(df.reset_index().values)\n",
    "\n",
    "# 滚动样本1 结果测试\n",
    "stride1 = get_stride_values(df, window=3)[0]\n",
    "__mat_B(stride1)"
   ]
  },
  {
   "cell_type": "code",
   "execution_count": null,
   "metadata": {
    "ExecuteTime": {
     "end_time": "2023-08-17T02:48:19.917749Z",
     "start_time": "2023-08-17T02:48:19.903737Z"
    }
   },
   "outputs": [],
   "source": [
    "# 这里2*3是B的形状\n",
    "ret_idx, ret_values = rolling_np(df, __mat_B, 2, 3, w=None, window=3)\n",
    "# ret_idx, ret_values"
   ]
  },
  {
   "cell_type": "code",
   "execution_count": null,
   "metadata": {
    "ExecuteTime": {
     "end_time": "2023-08-17T02:48:19.933764Z",
     "start_time": "2023-08-17T02:48:19.919751Z"
    }
   },
   "outputs": [],
   "source": [
    "# 这里列的顺序如下：\n",
    "# 资产1的常数项系数、X1系数...Xm系数，资产2的常数项系数、X1系数...Xm系数，...，资产N的常数项系数、X1系数...Xm系数\n",
    "df_betas = (\n",
    "    pd.DataFrame(ret_values.reshape(ret_values.shape[0], 1, -1).squeeze(), index=ret_idx)\n",
    "    # .values.reshape(values.shape[0], 2, -1)  # 转回原形状\n",
    ")\n",
    "df_betas"
   ]
  },
  {
   "cell_type": "markdown",
   "metadata": {},
   "source": [
    "### 运用2：区间相对强弱指标计算"
   ]
  },
  {
   "cell_type": "code",
   "execution_count": null,
   "metadata": {
    "ExecuteTime": {
     "end_time": "2023-08-17T02:48:19.948777Z",
     "start_time": "2023-08-17T02:48:19.934765Z"
    }
   },
   "outputs": [],
   "source": [
    "strides_prc = get_stride_values(df_prc, window=3)\n",
    "strides_prc"
   ]
  },
  {
   "cell_type": "code",
   "execution_count": null,
   "metadata": {
    "ExecuteTime": {
     "end_time": "2023-08-17T02:48:19.964792Z",
     "start_time": "2023-08-17T02:48:19.951780Z"
    }
   },
   "outputs": [],
   "source": [
    "def __np_RS(narr):\n",
    "    \n",
    "    # col 0 为索引列\n",
    "    idx = narr[:, 0]\n",
    "    \n",
    "    # OHLC对应1-4列\n",
    "    o, h, l, c = narr.T[1:5]\n",
    "    \n",
    "    value = (c - np.nanmin(l))/(np.nanmax(h)-np.nanmin(l))\n",
    "    return idx[-1], value[-1]\n",
    "\n",
    "\n",
    "idx_rs, values_rs = rolling_np(df_prc, __np_RS, 1, window=3)\n",
    "df_prc['RS_np'] = values_rs\n",
    "df_prc"
   ]
  },
  {
   "cell_type": "code",
   "execution_count": null,
   "metadata": {},
   "outputs": [],
   "source": []
  }
 ],
 "metadata": {
  "hide_input": false,
  "kernelspec": {
   "display_name": "Python 3 (ipykernel)",
   "language": "python",
   "name": "python3"
  },
  "language_info": {
   "codemirror_mode": {
    "name": "ipython",
    "version": 3
   },
   "file_extension": ".py",
   "mimetype": "text/x-python",
   "name": "python",
   "nbconvert_exporter": "python",
   "pygments_lexer": "ipython3",
   "version": "3.9.17"
  },
  "toc": {
   "base_numbering": 1,
   "nav_menu": {},
   "number_sections": true,
   "sideBar": true,
   "skip_h1_title": false,
   "title_cell": "Table of Contents",
   "title_sidebar": "Contents",
   "toc_cell": false,
   "toc_position": {
    "height": "calc(100% - 180px)",
    "left": "10px",
    "top": "150px",
    "width": "409.6px"
   },
   "toc_section_display": true,
   "toc_window_display": true
  },
  "varInspector": {
   "cols": {
    "lenName": 16,
    "lenType": 16,
    "lenVar": 40
   },
   "kernels_config": {
    "python": {
     "delete_cmd_postfix": "",
     "delete_cmd_prefix": "del ",
     "library": "var_list.py",
     "varRefreshCmd": "print(var_dic_list())"
    },
    "r": {
     "delete_cmd_postfix": ") ",
     "delete_cmd_prefix": "rm(",
     "library": "var_list.r",
     "varRefreshCmd": "cat(var_dic_list()) "
    }
   },
   "types_to_exclude": [
    "module",
    "function",
    "builtin_function_or_method",
    "instance",
    "_Feature"
   ],
   "window_display": false
  }
 },
 "nbformat": 4,
 "nbformat_minor": 4
}
